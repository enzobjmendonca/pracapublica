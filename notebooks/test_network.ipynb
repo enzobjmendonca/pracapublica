{
 "cells": [
  {
   "cell_type": "code",
   "execution_count": 1,
   "id": "7c075493",
   "metadata": {},
   "outputs": [],
   "source": [
    "from src.networks.voting_network import VotingNetwork\n",
    "from src.clients.data_enricher import DataEnricher\n",
    "import logging\n",
    "import pandas as pd\n",
    "logging.getLogger(\"src.clients.camara_client\").setLevel(logging.WARNING)\n",
    "\n",
    "data_enricher = DataEnricher()"
   ]
  },
  {
   "cell_type": "code",
   "execution_count": null,
   "id": "8ad56d1d",
   "metadata": {},
   "outputs": [],
   "source": [
    "votos_df = data_enricher.get_votos_periodo(dataInicio = '2025-01-01', dataFim = '2025-03-31')"
   ]
  },
  {
   "cell_type": "code",
   "execution_count": null,
   "id": "78c81231",
   "metadata": {},
   "outputs": [
    {
     "name": "stderr",
     "output_type": "stream",
     "text": [
      "100%|██████████| 24/24 [00:01<00:00, 12.53it/s]\n"
     ]
    }
   ],
   "source": [
    "votings_network = VotingNetwork(votos_df)\n",
    "votings_network.build_network()"
   ]
  },
  {
   "cell_type": "code",
   "execution_count": null,
   "id": "96f05427",
   "metadata": {},
   "outputs": [
    {
     "name": "stdout",
     "output_type": "stream",
     "text": [
      "Joseildo Ramos PT BA - Ricardo Salles NOVO SP: peso=-18\n",
      "Felipe Becari UNIÃO SP - Ricardo Salles NOVO SP: peso=-17\n",
      "Dr. Francisco PT PI - Ricardo Salles NOVO SP: peso=-17\n",
      "Rodrigo Gambale PODE SP - Marcel van Hattem NOVO RS: peso=-17\n",
      "Rodrigo Gambale PODE SP - Gilson Marques NOVO SC: peso=-17\n",
      "Roberto Monteiro Pai PL RJ - Guilherme Boulos PSOL SP: peso=-17\n",
      "Gilson Marques NOVO SC - Flávio Nogueira PT PI: peso=-17\n",
      "Flávio Nogueira PT PI - Marcel van Hattem NOVO RS: peso=-17\n",
      "Pedro Uczai PT SC - Ricardo Salles NOVO SP: peso=-17\n",
      "Camila Jara PT MS - Ricardo Salles NOVO SP: peso=-17\n"
     ]
    }
   ],
   "source": [
    "edges = votings_network.get_sorted_edges()\n",
    "G = votings_network.get_network()\n",
    "for u, v, d in edges[:10]:\n",
    "    print(f\"{G.nodes[u]['nome']} {G.nodes[u]['partido']} {G.nodes[u]['uf']} - {G.nodes[v]['nome']} {G.nodes[v]['partido']} {G.nodes[v]['uf']}: peso={d['weight']}\")"
   ]
  },
  {
   "cell_type": "code",
   "execution_count": 3,
   "id": "dfeb40f1",
   "metadata": {},
   "outputs": [
    {
     "data": {
      "application/vnd.jupyter.widget-view+json": {
       "model_id": "038f473193c14115b30cef10ba0f0092",
       "version_major": 2,
       "version_minor": 0
      },
      "text/plain": [
       "Coletando frentes:   0%|          | 0/692 [00:00<?, ?it/s]"
      ]
     },
     "metadata": {},
     "output_type": "display_data"
    }
   ],
   "source": [
    "frentes_df = data_enricher.get_frentes_legislatura(id_legislatura = [57])"
   ]
  },
  {
   "cell_type": "code",
   "execution_count": 2,
   "id": "b97e8945",
   "metadata": {},
   "outputs": [],
   "source": [
    "from src.networks.frente_network import FrenteNetwork"
   ]
  },
  {
   "cell_type": "code",
   "execution_count": 4,
   "id": "70042a2e",
   "metadata": {},
   "outputs": [
    {
     "name": "stderr",
     "output_type": "stream",
     "text": [
      "Construindo rede de frentes: 183315it [00:02, 66418.67it/s]\n"
     ]
    }
   ],
   "source": [
    "frentes_network = FrenteNetwork(frentes_df)\n",
    "frentes_network.build_network()"
   ]
  },
  {
   "cell_type": "code",
   "execution_count": 7,
   "id": "a4c49abe",
   "metadata": {},
   "outputs": [
    {
     "name": "stdout",
     "output_type": "stream",
     "text": [
      "Abilio Brunini PL MT - Dr Flávio PL RJ: peso=1\n",
      "Abilio Brunini PL MT - Enfermeira Rejane PCdoB RJ: peso=1\n",
      "Abilio Brunini PL MT - Fábio Macedo PODE MA: peso=1\n",
      "Abilio Brunini PL MT - Felipe Saliba PATRIOTA MG: peso=1\n",
      "Abilio Brunini PL MT - Henrique Júnior PL MA: peso=1\n",
      "Abilio Brunini PL MT - Juliana Kolankiewicz MDB MT: peso=1\n",
      "Abilio Brunini PL MT - Luiz Fernando Vampiro MDB SC: peso=1\n",
      "Abilio Brunini PL MT - Newton Bonin UNIÃO PR: peso=1\n",
      "Abilio Brunini PL MT - Paulo Marinho Jr PL MA: peso=1\n",
      "Abilio Brunini PL MT - Pedro Jr PL TO: peso=1\n"
     ]
    }
   ],
   "source": [
    "edges = frentes_network.get_sorted_edges()\n",
    "GF = frentes_network.get_network()\n",
    "for u, v, d in edges[:10]:\n",
    "    print(f\"{GF.nodes[u]['nome']} {GF.nodes[u]['partido']} {GF.nodes[u]['uf']} - {GF.nodes[v]['nome']} {GF.nodes[v]['partido']} {GF.nodes[v]['uf']}: peso={d['weight']}\")"
   ]
  },
  {
   "cell_type": "code",
   "execution_count": null,
   "id": "74710ace",
   "metadata": {},
   "outputs": [],
   "source": []
  }
 ],
 "metadata": {
  "kernelspec": {
   "display_name": "venv",
   "language": "python",
   "name": "python3"
  },
  "language_info": {
   "codemirror_mode": {
    "name": "ipython",
    "version": 3
   },
   "file_extension": ".py",
   "mimetype": "text/x-python",
   "name": "python",
   "nbconvert_exporter": "python",
   "pygments_lexer": "ipython3",
   "version": "3.13.7"
  }
 },
 "nbformat": 4,
 "nbformat_minor": 5
}
